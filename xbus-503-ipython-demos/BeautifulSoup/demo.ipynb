{
 "cells": [
  {
   "cell_type": "code",
   "execution_count": null,
   "metadata": {
    "collapsed": false
   },
   "outputs": [],
   "source": [
    "%matplotlib inline\n",
    "\n",
    "# imports\n",
    "from bs4 import BeautifulSoup\n",
    "import matplotlib.pyplot as plt\n",
    "\n",
    "# create handle to BeautifulSoup instance\n",
    "soup = BeautifulSoup(open(\"./data/gu-home.html\"), \"html.parser\")\n",
    "\n",
    "# save all anchors from the page\n",
    "all_anchors = soup.find_all('a')\n",
    "all_anchors[:10]"
   ]
  },
  {
   "cell_type": "code",
   "execution_count": null,
   "metadata": {
    "collapsed": false
   },
   "outputs": [],
   "source": [
    "# of the first 20 links, print all the ones with text (not linked images)\n",
    "for anchor in all_anchors[:20]:\n",
    "    if anchor.text.strip():\n",
    "        print(anchor.text.strip() + '\\n' + anchor['href'] + '\\n')"
   ]
  },
  {
   "cell_type": "code",
   "execution_count": null,
   "metadata": {
    "collapsed": false
   },
   "outputs": [],
   "source": [
    "# create an array of tuples containing the text and href\n",
    "links = [(a.text, a['href']) for a in all_anchors]\n",
    "links[:20]"
   ]
  },
  {
   "cell_type": "code",
   "execution_count": null,
   "metadata": {
    "collapsed": false
   },
   "outputs": [],
   "source": [
    "# use urlparse to get the FQDNs (site addresses)\n",
    "from urllib.parse import urlparse\n",
    "\n",
    "links = [(a.text, a['href'], urlparse(a['href']).netloc) for a in all_anchors]\n",
    "\n",
    "# display example tuple\n",
    "links[4:5] "
   ]
  },
  {
   "cell_type": "code",
   "execution_count": null,
   "metadata": {
    "collapsed": false
   },
   "outputs": [],
   "source": [
    "# create a pandas DataFrame using this array of anchor data\n",
    "import pandas as pd\n",
    "pd.set_option('display.max_rows', 100) \n",
    "\n",
    "df = pd.DataFrame(links, columns=['title','href','site'])\n",
    "df"
   ]
  },
  {
   "cell_type": "code",
   "execution_count": null,
   "metadata": {
    "collapsed": false
   },
   "outputs": [],
   "source": [
    "# view quick statistics\n",
    "df.describe()"
   ]
  },
  {
   "cell_type": "code",
   "execution_count": null,
   "metadata": {
    "collapsed": false
   },
   "outputs": [],
   "source": [
    "# only rows that have site values\n",
    "df = df[df['site'] != '']\n",
    "df.head(10)"
   ]
  },
  {
   "cell_type": "code",
   "execution_count": null,
   "metadata": {
    "collapsed": false
   },
   "outputs": [],
   "source": [
    "# create a frequency count of the sites\n",
    "dist = df['site'].value_counts()\n",
    "dist.head(10)"
   ]
  },
  {
   "cell_type": "code",
   "execution_count": null,
   "metadata": {
    "collapsed": false
   },
   "outputs": [],
   "source": [
    "# set style options (optional step)\n",
    "plt.style.use('ggplot')\n",
    "\n",
    "# create a bar graph to depict the frequencies\n",
    "dist.plot(kind='bar', figsize=(14,6));"
   ]
  },
  {
   "cell_type": "code",
   "execution_count": null,
   "metadata": {
    "collapsed": false
   },
   "outputs": [],
   "source": [
    "# plot only those that are seen more than once\n",
    "dist[dist > 1].plot(kind='bar')"
   ]
  },
  {
   "cell_type": "code",
   "execution_count": null,
   "metadata": {
    "collapsed": true
   },
   "outputs": [],
   "source": []
  }
 ],
 "metadata": {
  "anaconda-cloud": {},
  "kernelspec": {
   "display_name": "Python [default]",
   "language": "python",
   "name": "python3"
  },
  "language_info": {
   "codemirror_mode": {
    "name": "ipython",
    "version": 3
   },
   "file_extension": ".py",
   "mimetype": "text/x-python",
   "name": "python",
   "nbconvert_exporter": "python",
   "pygments_lexer": "ipython3",
   "version": "3.5.2"
  }
 },
 "nbformat": 4,
 "nbformat_minor": 0
}
